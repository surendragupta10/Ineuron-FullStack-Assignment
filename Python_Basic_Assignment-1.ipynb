{
 "cells": [
  {
   "cell_type": "markdown",
   "metadata": {},
   "source": [
    "# 1. What are the differences between operators and values in the following?\n",
    "\n",
    "(* ,'hello', -87.8 , - , /  ,6 )\n"
   ]
  },
  {
   "cell_type": "markdown",
   "metadata": {},
   "source": [
    "**Ans**\n",
    "*                   # It is Operator and does mathematics Multiplication\n",
    "'hello'             # It is Value and it's type is string\n",
    "-87.8               # It is Value and it's type s Float\n",
    "-                   # It is Operator and does mathematics substraction\n",
    "/                   # It is Operator and does mathematics division\n",
    "+                   # It is Operator and does mathematics addition\n",
    "6                   # It is Value and it's type is integer"
   ]
  },
  {
   "cell_type": "markdown",
   "metadata": {},
   "source": [
    "# 2. What is the difference between string and variable?"
   ]
  },
  {
   "cell_type": "markdown",
   "metadata": {},
   "source": [
    "**Ans**\n",
    "* String contains letters which define in single or double quote form Ex: \"Surendra\", it is immutable can't be change once defined.\n",
    "* Whereas variable can be defined as bucket of different data i.e. string,integer,float etc.\n"
   ]
  },
  {
   "cell_type": "markdown",
   "metadata": {},
   "source": [
    "# 3. Describe three different data types."
   ]
  },
  {
   "cell_type": "markdown",
   "metadata": {},
   "source": [
    "**Ans**\n",
    "#Following are various types of Data types:\n",
    "(# 1. Integer, 2. Float, 3. List, 4. tuple, 5. dictionary,6. set, 7. String)\n",
    "\n",
    "1. List: it is bucket of different datatypes and it is mutable which can be written in square bracket[].\n",
    "    \n",
    "2. Tuples: It is also bucket of different datatypes but it is immutable, it can be written in bracket form ().\n",
    "    \n",
    "3. Integer: It is in Numerical form without decimal i.e. 1,2,10,20."
   ]
  },
  {
   "cell_type": "markdown",
   "metadata": {},
   "source": [
    "# 4. What is an expression made up of? What do all expressions do?"
   ]
  },
  {
   "cell_type": "markdown",
   "metadata": {},
   "source": [
    "**Ans** \n",
    "* The expression evaluates down to a single, new string value that combines the text of the two strings. However, \n",
    "* if we try to use the addition operator on a string and an integer value, Python will not know how to handle this, and it will display an error message."
   ]
  },
  {
   "cell_type": "markdown",
   "metadata": {},
   "source": [
    "# 5. This assignment statements, like spam = 10. What is the difference between an expression and a statement?"
   ]
  },
  {
   "cell_type": "markdown",
   "metadata": {},
   "source": [
    "**Ans** \n",
    "* spam = 10 is telling the program, “The variable spam now has the integer value 10 in it.”\n",
    "* expression: is the combination of operators and operands for example: 1+20 \n",
    "* We store values in variables with an assignment statement. An assignment statement consists of a variable name, an equal sign for example (surendra = 10)."
   ]
  },
  {
   "cell_type": "markdown",
   "metadata": {},
   "source": [
    "# 6. After running the following code, what does the variable bacon contain?\n",
    "\n",
    "bacon = 22\n",
    "bacon + 1\n"
   ]
  },
  {
   "cell_type": "markdown",
   "metadata": {},
   "source": [
    "**Ans**\n",
    "* After running the above code bacon will contain interger 23."
   ]
  },
  {
   "cell_type": "markdown",
   "metadata": {},
   "source": [
    "# 7. What should the values of the following two terms be?\n",
    "'spam' + 'spamspam'\n",
    "'spam' * 3\n"
   ]
  },
  {
   "cell_type": "markdown",
   "metadata": {},
   "source": [
    "**Ans**\n",
    "* 'spam' + 'spamspam' will be 'spamspamspam'\n",
    "* 'spam' * 3  wil be 'spamspamspam'"
   ]
  },
  {
   "cell_type": "markdown",
   "metadata": {},
   "source": [
    "# 8. Why is eggs a valid variable name while 100 is invalid?\n"
   ]
  },
  {
   "cell_type": "markdown",
   "metadata": {},
   "source": [
    "**Ans**\n",
    "\n",
    "* Variable names cannot begin with a number.The expression causes an error because 100 is an integer, and only strings can be concatenated to other strings with the + operator."
   ]
  },
  {
   "cell_type": "markdown",
   "metadata": {},
   "source": [
    "# 9. What three functions can be used to get the integer, floating-point number, or string version of a value?\n"
   ]
  },
  {
   "cell_type": "markdown",
   "metadata": {},
   "source": [
    "**Ans**\n",
    "* The int() , float() , and str( ) functions will evaluate to the integer, floating-point number, and string versions of the value."
   ]
  },
  {
   "cell_type": "markdown",
   "metadata": {},
   "source": [
    "# 10. Why does this expression cause an error? How can you fix it?\n",
    "'I have eaten ' + 99 + ' burritos.'\n"
   ]
  },
  {
   "cell_type": "markdown",
   "metadata": {},
   "source": [
    "**Ans**\n",
    "* 99 is the integer and can't be concatenate with string, this can be fixed by converting integer to string by providing inverted comma as follows\n",
    "'I have eaten ' + '99' + ' burritos'"
   ]
  }
 ],
 "metadata": {
  "kernelspec": {
   "display_name": "Python 3",
   "language": "python",
   "name": "python3"
  },
  "language_info": {
   "codemirror_mode": {
    "name": "ipython",
    "version": 3
   },
   "file_extension": ".py",
   "mimetype": "text/x-python",
   "name": "python",
   "nbconvert_exporter": "python",
   "pygments_lexer": "ipython3",
   "version": "3.8.3"
  }
 },
 "nbformat": 4,
 "nbformat_minor": 4
}
